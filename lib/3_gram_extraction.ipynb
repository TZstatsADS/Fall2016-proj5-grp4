{
 "cells": [
  {
   "cell_type": "code",
   "execution_count": null,
   "metadata": {
    "collapsed": true
   },
   "outputs": [],
   "source": [
    "#import data and split train and test data \n",
    "import pandas as pd\n",
    "from sklearn.feature_extraction.text import CountVectorizer\n",
    "data = pd.read_csv('Combined_News_DJIA.csv')\n",
    "train = data[data['Date'] < '2016-01-01']\n",
    "test = data[data['Date'] > '2015-12-31']\n",
    "trainheadlines = []\n",
    "# train news\n",
    "for row in range(0,len(train.index)):\n",
    "    trainheadlines.append(' '.join(str(x) for x in train.iloc[row,2:27]))"
   ]
  },
  {
   "cell_type": "code",
   "execution_count": null,
   "metadata": {
    "collapsed": true
   },
   "outputs": [],
   "source": [
    "import scipy\n",
    "import scipy.io\n",
    "scipy.sparse.csr_matrix.toarray(basictrain) \n",
    "time_data = data[data['Date'] < '2016-01-01']['Date']\n",
    "df2 = pd.DataFrame(time_data)\n",
    "df2.to_csv('time.csv', index=False)"
   ]
  },
  {
   "cell_type": "code",
   "execution_count": null,
   "metadata": {
    "collapsed": true
   },
   "outputs": [],
   "source": [
    "#3-gram stem train\n",
    "from nltk.stem import PorterStemmer\n",
    "stemmer = PorterStemmer()\n",
    "#vector_1 = CountVectorizer()\n",
    "analyzer = CountVectorizer().build_analyzer()\n",
    "def stemmed_words(doc):\n",
    "    return (stemmer.stem(analyzer(doc)[w])+' '+stemmer.stem(analyzer(doc)[w+1])+' '+stemmer.stem(analyzer(doc)[w+2]) for w in range(0,len(analyzer(doc))-2))\n",
    "stem_3_vectorizer = CountVectorizer(analyzer=stemmed_words,ngram_range=(3,3))\n",
    "train_3 = stem_3_vectorizer.fit_transform(trainheadlines)\n",
    "scipy.io.mmwrite('stem_3gram.mtx',train_3)\n",
    "gram_stem_3 = stem_3_vectorizer.get_feature_names()\n",
    "df_stem_3 = pd.DataFrame(gram_stem_3)\n",
    "df_stem_3.to_csv('stem_3_gram_words.csv', index=False)"
   ]
  },
  {
   "cell_type": "code",
   "execution_count": null,
   "metadata": {
    "collapsed": true
   },
   "outputs": [],
   "source": [
    "# for test set news\n",
    "testheadlines = []\n",
    "for row in range(0,len(test.index)):\n",
    "    testheadlines.append(' '.join(str(x) for x in test.iloc[row,2:27]))"
   ]
  },
  {
   "cell_type": "code",
   "execution_count": null,
   "metadata": {
    "collapsed": true
   },
   "outputs": [],
   "source": [
    "#3-gram test set !!!!!!!\n",
    "import scipy\n",
    "import scipy.io\n",
    "from nltk.stem import PorterStemmer\n",
    "stemmer = PorterStemmer()\n",
    "#vector_1 = CountVectorizer()\n",
    "analyzer = CountVectorizer().build_analyzer()\n",
    "def stemmed_words(doc):\n",
    "    return (stemmer.stem(analyzer(doc)[w])+' '+stemmer.stem(analyzer(doc)[w+1])+' '+stemmer.stem(analyzer(doc)[w+2]) for w in range(0,len(analyzer(doc))-2))\n",
    "stem_3_vectorizer = CountVectorizer(analyzer=stemmed_words,ngram_range=(3,3))\n",
    "test_3 = stem_3_vectorizer.fit_transform(testheadlines)\n",
    "scipy.io.mmwrite('test_3gram.mtx',test_3)\n",
    "test_stem_3 = stem_3_vectorizer.get_feature_names()\n",
    "df_test_3 = pd.DataFrame(test_stem_3)\n",
    "df_test_3.to_csv('test_3_gram_words.csv', index=False)"
   ]
  },
  {
   "cell_type": "code",
   "execution_count": null,
   "metadata": {
    "collapsed": true
   },
   "outputs": [],
   "source": [
    "time_test_3 = data[data['Date']  > '2015-12-31']['Date']\n",
    "df3_time = pd.DataFrame(time_test_3)\n",
    "df3_time.to_csv('time_test_3.csv', index=False)"
   ]
  },
  {
   "cell_type": "code",
   "execution_count": null,
   "metadata": {
    "collapsed": true
   },
   "outputs": [],
   "source": [
    "# for 2-gram extraction it's similar as 3-gram extraction so we don't present it here"
   ]
  }
 ],
 "metadata": {
  "kernelspec": {
   "display_name": "Python 2",
   "language": "python",
   "name": "python2"
  },
  "language_info": {
   "codemirror_mode": {
    "name": "ipython",
    "version": 2
   },
   "file_extension": ".py",
   "mimetype": "text/x-python",
   "name": "python",
   "nbconvert_exporter": "python",
   "pygments_lexer": "ipython2",
   "version": "2.7.12"
  }
 },
 "nbformat": 4,
 "nbformat_minor": 1
}
